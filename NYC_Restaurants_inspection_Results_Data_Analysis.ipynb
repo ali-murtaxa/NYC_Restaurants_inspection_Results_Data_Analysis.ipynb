{
  "nbformat": 4,
  "nbformat_minor": 0,
  "metadata": {
    "colab": {
      "name": "NYC-Restaurants-inspection-Results-Data_Analysis.py",
      "provenance": [],
      "authorship_tag": "ABX9TyOBltqJMxZB18KmFmjyqYg2",
      "include_colab_link": true
    },
    "kernelspec": {
      "name": "python3",
      "display_name": "Python 3"
    }
  },
  "cells": [
    {
      "cell_type": "markdown",
      "metadata": {
        "id": "view-in-github",
        "colab_type": "text"
      },
      "source": [
        "<a href=\"https://colab.research.google.com/github/ali-murtaxa/NYC_Restaurants_inspection_Results_Data_Analysis.ipynb/blob/master/NYC_Restaurants_inspection_Results_Data_Analysis.ipynb\" target=\"_parent\"><img src=\"https://colab.research.google.com/assets/colab-badge.svg\" alt=\"Open In Colab\"/></a>"
      ]
    },
    {
      "cell_type": "markdown",
      "metadata": {
        "id": "qDLrM8nAezSj",
        "colab_type": "text"
      },
      "source": [
        "### ***Importing Libraries***"
      ]
    },
    {
      "cell_type": "code",
      "metadata": {
        "id": "iNM-gyqS6h0a",
        "colab_type": "code",
        "colab": {}
      },
      "source": [
        "import numpy as np\n",
        "import pandas as pd\n",
        "import pandas.util.testing as tm\n",
        "import matplotlib.pyplot as plt\n",
        "import seaborn as sns\n",
        "from sklearn import preprocessing\n",
        "plt.rc(\"font\", size=14)\n",
        "from sklearn.linear_model import LogisticRegression\n",
        "from sklearn.model_selection import train_test_split\n",
        "sns.set(style=\"white\")\n",
        "sns.set(style=\"whitegrid\", color_codes=True)"
      ],
      "execution_count": 5,
      "outputs": []
    },
    {
      "cell_type": "markdown",
      "metadata": {
        "id": "qmTSzcz_e9Ye",
        "colab_type": "text"
      },
      "source": [
        "# ***Importing Data***"
      ]
    },
    {
      "cell_type": "code",
      "metadata": {
        "id": "5pLrnSPsdzo8",
        "colab_type": "code",
        "colab": {}
      },
      "source": [
        "data = pd.read_csv(\"/content/DOHMH_New_York_City_Restaurant_Inspection_Results.csv\", header=0)"
      ],
      "execution_count": 6,
      "outputs": []
    },
    {
      "cell_type": "markdown",
      "metadata": {
        "id": "fm7c35v9fFRR",
        "colab_type": "text"
      },
      "source": [
        "# ***Sample Data***"
      ]
    },
    {
      "cell_type": "code",
      "metadata": {
        "id": "P8PgSXzkeLtQ",
        "colab_type": "code",
        "colab": {
          "base_uri": "https://localhost:8080/",
          "height": 71
        },
        "outputId": "5e14ae85-71c5-49f3-abe7-07b5b3318103"
      },
      "source": [
        "data = data.dropna()\n",
        "print(data.shape)\n",
        "print(list(data.columns))"
      ],
      "execution_count": 7,
      "outputs": [
        {
          "output_type": "stream",
          "text": [
            "(10755, 26)\n",
            "['CAMIS', 'DBA', 'BORO', 'BUILDING', 'STREET', 'ZIPCODE', 'PHONE', 'CUISINE DESCRIPTION', 'INSPECTION DATE', 'ACTION', 'VIOLATION CODE', 'VIOLATION DESCRIPTION', 'CRITICAL FLAG', 'SCORE', 'GRADE', 'GRADE DATE', 'RECORD DATE', 'INSPECTION TYPE', 'Latitude', 'Longitude', 'Community Board', 'Council District', 'Census Tract', 'BIN', 'BBL', 'NTA']\n"
          ],
          "name": "stdout"
        }
      ]
    },
    {
      "cell_type": "code",
      "metadata": {
        "id": "xOczhbU4iSY4",
        "colab_type": "code",
        "colab": {
          "base_uri": "https://localhost:8080/",
          "height": 666
        },
        "outputId": "52c2197e-9d95-4dd4-9d39-e8724f345f07"
      },
      "source": [
        "data.head()"
      ],
      "execution_count": 8,
      "outputs": [
        {
          "output_type": "execute_result",
          "data": {
            "text/html": [
              "<div>\n",
              "<style scoped>\n",
              "    .dataframe tbody tr th:only-of-type {\n",
              "        vertical-align: middle;\n",
              "    }\n",
              "\n",
              "    .dataframe tbody tr th {\n",
              "        vertical-align: top;\n",
              "    }\n",
              "\n",
              "    .dataframe thead th {\n",
              "        text-align: right;\n",
              "    }\n",
              "</style>\n",
              "<table border=\"1\" class=\"dataframe\">\n",
              "  <thead>\n",
              "    <tr style=\"text-align: right;\">\n",
              "      <th></th>\n",
              "      <th>CAMIS</th>\n",
              "      <th>DBA</th>\n",
              "      <th>BORO</th>\n",
              "      <th>BUILDING</th>\n",
              "      <th>STREET</th>\n",
              "      <th>ZIPCODE</th>\n",
              "      <th>PHONE</th>\n",
              "      <th>CUISINE DESCRIPTION</th>\n",
              "      <th>INSPECTION DATE</th>\n",
              "      <th>ACTION</th>\n",
              "      <th>VIOLATION CODE</th>\n",
              "      <th>VIOLATION DESCRIPTION</th>\n",
              "      <th>CRITICAL FLAG</th>\n",
              "      <th>SCORE</th>\n",
              "      <th>GRADE</th>\n",
              "      <th>GRADE DATE</th>\n",
              "      <th>RECORD DATE</th>\n",
              "      <th>INSPECTION TYPE</th>\n",
              "      <th>Latitude</th>\n",
              "      <th>Longitude</th>\n",
              "      <th>Community Board</th>\n",
              "      <th>Council District</th>\n",
              "      <th>Census Tract</th>\n",
              "      <th>BIN</th>\n",
              "      <th>BBL</th>\n",
              "      <th>NTA</th>\n",
              "    </tr>\n",
              "  </thead>\n",
              "  <tbody>\n",
              "    <tr>\n",
              "      <th>2</th>\n",
              "      <td>40964100</td>\n",
              "      <td>EL REY DE LOS TACOS</td>\n",
              "      <td>Queens</td>\n",
              "      <td>49-06</td>\n",
              "      <td>43 AVENUE</td>\n",
              "      <td>11377.0</td>\n",
              "      <td>7183962779</td>\n",
              "      <td>Mexican</td>\n",
              "      <td>03/19/2018</td>\n",
              "      <td>Violations were cited in the following area(s).</td>\n",
              "      <td>04M</td>\n",
              "      <td>Live roaches present in facility's food and/or...</td>\n",
              "      <td>Y</td>\n",
              "      <td>12.0</td>\n",
              "      <td>A</td>\n",
              "      <td>03/19/2018</td>\n",
              "      <td>07/19/2020</td>\n",
              "      <td>Cycle Inspection / Re-inspection</td>\n",
              "      <td>40.744544</td>\n",
              "      <td>-73.915390</td>\n",
              "      <td>402.0</td>\n",
              "      <td>26.0</td>\n",
              "      <td>25301.0</td>\n",
              "      <td>4001285.0</td>\n",
              "      <td>4.001380e+09</td>\n",
              "      <td>QN31</td>\n",
              "    </tr>\n",
              "    <tr>\n",
              "      <th>3</th>\n",
              "      <td>41376524</td>\n",
              "      <td>KAFFE 1668</td>\n",
              "      <td>Manhattan</td>\n",
              "      <td>275</td>\n",
              "      <td>GREENWICH STREET</td>\n",
              "      <td>10007.0</td>\n",
              "      <td>2126933750</td>\n",
              "      <td>Café/Coffee/Tea</td>\n",
              "      <td>12/05/2019</td>\n",
              "      <td>Violations were cited in the following area(s).</td>\n",
              "      <td>06E</td>\n",
              "      <td>Sanitized equipment or utensil, including in-u...</td>\n",
              "      <td>Y</td>\n",
              "      <td>24.0</td>\n",
              "      <td>B</td>\n",
              "      <td>12/05/2019</td>\n",
              "      <td>07/19/2020</td>\n",
              "      <td>Cycle Inspection / Re-inspection</td>\n",
              "      <td>40.715214</td>\n",
              "      <td>-74.011240</td>\n",
              "      <td>101.0</td>\n",
              "      <td>1.0</td>\n",
              "      <td>2100.0</td>\n",
              "      <td>1081076.0</td>\n",
              "      <td>1.001328e+09</td>\n",
              "      <td>MN24</td>\n",
              "    </tr>\n",
              "    <tr>\n",
              "      <th>5</th>\n",
              "      <td>50043559</td>\n",
              "      <td>HAINA RESTAURANT</td>\n",
              "      <td>Bronx</td>\n",
              "      <td>1712</td>\n",
              "      <td>UNIVERSITY AVENUE</td>\n",
              "      <td>10453.0</td>\n",
              "      <td>3472695549</td>\n",
              "      <td>Spanish</td>\n",
              "      <td>06/14/2019</td>\n",
              "      <td>Violations were cited in the following area(s).</td>\n",
              "      <td>02H</td>\n",
              "      <td>Food not cooled by an approved method whereby ...</td>\n",
              "      <td>Y</td>\n",
              "      <td>20.0</td>\n",
              "      <td>B</td>\n",
              "      <td>06/14/2019</td>\n",
              "      <td>07/19/2020</td>\n",
              "      <td>Cycle Inspection / Re-inspection</td>\n",
              "      <td>40.848613</td>\n",
              "      <td>-73.918018</td>\n",
              "      <td>205.0</td>\n",
              "      <td>14.0</td>\n",
              "      <td>21502.0</td>\n",
              "      <td>2008833.0</td>\n",
              "      <td>2.028760e+09</td>\n",
              "      <td>BX36</td>\n",
              "    </tr>\n",
              "    <tr>\n",
              "      <th>6</th>\n",
              "      <td>40567189</td>\n",
              "      <td>USULUTECO RESTAURANT</td>\n",
              "      <td>Brooklyn</td>\n",
              "      <td>4017</td>\n",
              "      <td>5 AVENUE</td>\n",
              "      <td>11232.0</td>\n",
              "      <td>7184368025</td>\n",
              "      <td>Latin (Cuban, Dominican, Puerto Rican, South &amp;...</td>\n",
              "      <td>12/10/2018</td>\n",
              "      <td>Violations were cited in the following area(s).</td>\n",
              "      <td>04M</td>\n",
              "      <td>Live roaches present in facility's food and/or...</td>\n",
              "      <td>Y</td>\n",
              "      <td>12.0</td>\n",
              "      <td>A</td>\n",
              "      <td>12/10/2018</td>\n",
              "      <td>07/19/2020</td>\n",
              "      <td>Cycle Inspection / Re-inspection</td>\n",
              "      <td>40.650545</td>\n",
              "      <td>-74.004634</td>\n",
              "      <td>307.0</td>\n",
              "      <td>38.0</td>\n",
              "      <td>8800.0</td>\n",
              "      <td>3017967.0</td>\n",
              "      <td>3.009170e+09</td>\n",
              "      <td>BK34</td>\n",
              "    </tr>\n",
              "    <tr>\n",
              "      <th>8</th>\n",
              "      <td>50043379</td>\n",
              "      <td>LOS TRES LAURELES</td>\n",
              "      <td>Queens</td>\n",
              "      <td>3822</td>\n",
              "      <td>108TH ST</td>\n",
              "      <td>11368.0</td>\n",
              "      <td>3473199288</td>\n",
              "      <td>Latin (Cuban, Dominican, Puerto Rican, South &amp;...</td>\n",
              "      <td>03/18/2019</td>\n",
              "      <td>Violations were cited in the following area(s).</td>\n",
              "      <td>10F</td>\n",
              "      <td>Non-food contact surface improperly constructe...</td>\n",
              "      <td>N</td>\n",
              "      <td>7.0</td>\n",
              "      <td>A</td>\n",
              "      <td>03/18/2019</td>\n",
              "      <td>07/19/2020</td>\n",
              "      <td>Cycle Inspection / Initial Inspection</td>\n",
              "      <td>40.752068</td>\n",
              "      <td>-73.859469</td>\n",
              "      <td>403.0</td>\n",
              "      <td>21.0</td>\n",
              "      <td>40300.0</td>\n",
              "      <td>4531250.0</td>\n",
              "      <td>4.017758e+09</td>\n",
              "      <td>QN26</td>\n",
              "    </tr>\n",
              "  </tbody>\n",
              "</table>\n",
              "</div>"
            ],
            "text/plain": [
              "      CAMIS                   DBA       BORO  ...        BIN           BBL   NTA\n",
              "2  40964100   EL REY DE LOS TACOS     Queens  ...  4001285.0  4.001380e+09  QN31\n",
              "3  41376524            KAFFE 1668  Manhattan  ...  1081076.0  1.001328e+09  MN24\n",
              "5  50043559      HAINA RESTAURANT      Bronx  ...  2008833.0  2.028760e+09  BX36\n",
              "6  40567189  USULUTECO RESTAURANT   Brooklyn  ...  3017967.0  3.009170e+09  BK34\n",
              "8  50043379     LOS TRES LAURELES     Queens  ...  4531250.0  4.017758e+09  QN26\n",
              "\n",
              "[5 rows x 26 columns]"
            ]
          },
          "metadata": {
            "tags": []
          },
          "execution_count": 8
        }
      ]
    },
    {
      "cell_type": "code",
      "metadata": {
        "id": "YALq9tfOiYZp",
        "colab_type": "code",
        "colab": {
          "base_uri": "https://localhost:8080/",
          "height": 51
        },
        "outputId": "888b42e8-3f85-48c1-9fc8-cb8447656b3c"
      },
      "source": [
        "data['STREET'].unique()"
      ],
      "execution_count": 9,
      "outputs": [
        {
          "output_type": "execute_result",
          "data": {
            "text/plain": [
              "array(['43 AVENUE', 'GREENWICH STREET', 'UNIVERSITY AVENUE', ...,\n",
              "       '7TH AVE @56TH STREET', 'LGA', 'CITY ISLAND ROAD'], dtype=object)"
            ]
          },
          "metadata": {
            "tags": []
          },
          "execution_count": 9
        }
      ]
    },
    {
      "cell_type": "code",
      "metadata": {
        "id": "Lw80zBLpes7h",
        "colab_type": "code",
        "colab": {
          "base_uri": "https://localhost:8080/",
          "height": 221
        },
        "outputId": "12a616c4-6f8c-412e-febb-f760ea8bb8c6"
      },
      "source": [
        "data['CAMIS'].value_counts()"
      ],
      "execution_count": 14,
      "outputs": [
        {
          "output_type": "execute_result",
          "data": {
            "text/plain": [
              "50056245    5\n",
              "41564527    5\n",
              "50064934    5\n",
              "40897685    5\n",
              "50035603    5\n",
              "           ..\n",
              "50090007    1\n",
              "50079776    1\n",
              "50072493    1\n",
              "50001954    1\n",
              "41371649    1\n",
              "Name: CAMIS, Length: 8445, dtype: int64"
            ]
          },
          "metadata": {
            "tags": []
          },
          "execution_count": 14
        }
      ]
    },
    {
      "cell_type": "markdown",
      "metadata": {
        "id": "GaD1gfeggbNu",
        "colab_type": "text"
      },
      "source": [
        "# ***Data Visualization***"
      ]
    },
    {
      "cell_type": "code",
      "metadata": {
        "id": "v1EOa2dappB8",
        "colab_type": "code",
        "colab": {
          "base_uri": "https://localhost:8080/",
          "height": 285
        },
        "outputId": "7e75d1be-7000-4512-9463-77ad5eb1532f"
      },
      "source": [
        "sns.countplot(x='STREET',data=data, palette='hls')\n",
        "plt.show()"
      ],
      "execution_count": 15,
      "outputs": [
        {
          "output_type": "display_data",
          "data": {
            "image/png": "[encoded data removed]",
            "text/plain": [
              "<Figure size 432x288 with 1 Axes>"
            ]
          },
          "metadata": {
            "tags": []
          }
        }
      ]
    }
  ]
}